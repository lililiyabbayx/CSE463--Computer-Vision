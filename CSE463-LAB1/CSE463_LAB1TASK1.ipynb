{
  "nbformat": 4,
  "nbformat_minor": 0,
  "metadata": {
    "colab": {
      "provenance": []
    },
    "kernelspec": {
      "name": "python3",
      "display_name": "Python 3"
    },
    "language_info": {
      "name": "python"
    }
  },
  "cells": [
    {
      "cell_type": "code",
      "execution_count": null,
      "metadata": {
        "id": "BKbcQoDzNHlV"
      },
      "outputs": [],
      "source": [
        "import matplotlib.pyplot as plt\n",
        "import numpy as np\n",
        "import cv2"
      ]
    },
    {
      "cell_type": "code",
      "source": [
        "array= np.array([\n",
        "    [255,0,0,0,255      ,255,255,255,0,255,255,255  ,255,0,0,0,255      ,255,255,0,0,0,255,255],\n",
        "    [255,0,255,255,255  ,255,255,0,255,0,255,255    ,255,0,255,255,255  ,255,0,255,255,255,0,255],\n",
        "    [255,0,0,255,255    ,255,255,0,255,0,255,255    ,255,0,0,255,255    ,255,255,0,0,0,255,255],\n",
        "    [255,0,255,255,255  ,255,255,0,0,0,255,255      ,255,255,255,0,255  ,255,0,255,255,255,0,255],\n",
        "    [255,0,255,255,255  ,255,255,0,255,0,255,255    ,255,0,0,255,255    ,255,255,0,0,0,255,255]\n",
        "\n",
        "])\n",
        "plt.imshow(array,cmap='gray')\n"
      ],
      "metadata": {
        "colab": {
          "base_uri": "https://localhost:8080/",
          "height": 181
        },
        "id": "Xe2RMwXPNSRk",
        "outputId": "07ad280e-255c-498e-e5fd-8e122d5119e8"
      },
      "execution_count": null,
      "outputs": [
        {
          "output_type": "execute_result",
          "data": {
            "text/plain": [
              "<matplotlib.image.AxesImage at 0x7daf6e4f6450>"
            ]
          },
          "metadata": {},
          "execution_count": 57
        },
        {
          "output_type": "display_data",
          "data": {
            "text/plain": [
              "<Figure size 640x480 with 1 Axes>"
            ],
            "image/png": "[encoded data removed]"
          },
          "metadata": {}
        }
      ]
    },
    {
      "cell_type": "code",
      "source": [],
      "metadata": {
        "id": "2vBlyeutNST9"
      },
      "execution_count": null,
      "outputs": []
    },
    {
      "cell_type": "code",
      "source": [],
      "metadata": {
        "id": "drJdZ9t8NSXb"
      },
      "execution_count": null,
      "outputs": []
    }
  ]
}